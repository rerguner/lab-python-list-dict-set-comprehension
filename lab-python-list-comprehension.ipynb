{
 "cells": [
  {
   "cell_type": "markdown",
   "id": "25d7736c-ba17-4aff-b6bb-66eba20fbf4e",
   "metadata": {},
   "source": [
    "# Lab | List, Dict and Set Comprehension"
   ]
  },
  {
   "cell_type": "markdown",
   "id": "7dd3cbde-675a-4b81-92c3-f728846dbe06",
   "metadata": {},
   "source": [
    "## Exercise: Managing Customer Orders Optimized with Comprehension"
   ]
  },
  {
   "cell_type": "markdown",
   "id": "5d500160-2fb7-4777-b5e4-09d45ebaf328",
   "metadata": {},
   "source": [
    "In the previous exercise, you developed a program to manage customer orders and inventory. Now, let's take it a step further and incorporate comprehension into your code.\n",
    "\n",
    "Follow the steps below to complete the exercise:\n",
    "\n",
    "1. Review your code from the previous exercise and identify areas where you can apply comprehension to simplify and streamline your code. \n",
    "\n",
    "    - *Hint: Apply it to initialize inventory, updating the inventory and printing the updated inventory.*\n",
    "    \n",
    "    - For example, in initializing the inventory, we could have:\n",
    "    \n",
    "        ```python\n",
    "        def initialize_inventory(products):\n",
    "            inventory = {product: int(input(f\"Enter the quantity of {product}s available: \")) for product in products}\n",
    "            return inventory\n",
    "\n",
    "        ```\n",
    "<br>\n",
    "    \n",
    "    \n",
    "2. Modify the function get_customer_orders so it prompts the user to enter the number of customer orders and gathers the product names using a loop and user input. Use comprehension.\n",
    "\n",
    "3. Add a new function to calculate the total price of the customer order. For each product in customer_orders, prompt the user to enter the price of that product. Use comprehension to calculate the total price. Note: assume that the user can only have 1 unit of each product.\n",
    "\n",
    "4. Modify the update_inventory function to remove the product from the inventory if its quantity becomes zero after fulfilling the customer orders. Use comprehension to filter out the products with a quantity of zero from the inventory.\n",
    "\n",
    "5. Print the total price of the customer order.\n",
    "\n",
    "Your code should produce output similar to the following:\n",
    "\n",
    "```python\n",
    "Enter the quantity of t-shirts available:  5\n",
    "Enter the quantity of mugs available:  4\n",
    "Enter the quantity of hats available:  3\n",
    "Enter the quantity of books available:  2\n",
    "Enter the quantity of keychains available:  1\n",
    "Enter the number of customer orders:  2\n",
    "Enter the name of a product that a customer wants to order:  hat\n",
    "Enter the name of a product that a customer wants to order:  keychain\n",
    "\n",
    "Order Statistics:\n",
    "Total Products Ordered: 2\n",
    "Percentage of Unique Products Ordered: 40.0\n",
    "\n",
    "Updated Inventory:\n",
    "t-shirt: 5\n",
    "mug: 4\n",
    "hat: 2\n",
    "book: 2\n",
    "Enter the price of keychain:  5\n",
    "Enter the price of hat:  10\n",
    "Total Price: 15.0\n",
    "\n",
    "```\n"
   ]
  },
  {
   "cell_type": "code",
   "execution_count": 112,
   "id": "a76a849b",
   "metadata": {},
   "outputs": [],
   "source": [
    "#initialize_inventroy function\n",
    "\"\"\" that takes `products` as a parameter. Inside the function, \n",
    "implement the code for initializing the inventory dictionary using a loop and user input.\n",
    "Add comprehension\"\"\"\n",
    "\n",
    "products = ['mug', 'book', 'tshirt', 'pen', 'umbrella']\n",
    "\n",
    "def initialize_inventory (products): \n",
    "    inventory = {product: int(input(f\"Enter the Quantity of {product.upper()} available: \")) for product in products}\n",
    "    return inventory     \n",
    "\n"
   ]
  },
  {
   "cell_type": "code",
   "execution_count": 113,
   "id": "119af8c1",
   "metadata": {},
   "outputs": [],
   "source": [
    "#get_customer_orders function\n",
    "\"\"\"that takes no parameters. Inside the function, implement the code for prompting the user to enter the product names using a loop. \n",
    "The function should return the `customer_orders` set.\n",
    "Modify the function get_customer_orders so it prompts the user to enter the number of customer orders and gathers the product names using a loop and user input. \n",
    "Use comprehension.\n",
    "Add a logic to check peroduct in stock\"\"\"\n",
    "\n",
    "def get_customer_orders():\n",
    "    number_of_orders = int(input(\"Enter the Number of Customer Orders: \"))\n",
    "    customer_orders = {input(\"Enter the name of the product that customer wants to order: \") for i in range(number_of_orders)}\n",
    "    return number_of_orders, customer_orders\n"
   ]
  },
  {
   "cell_type": "code",
   "execution_count": 114,
   "id": "06a400d9",
   "metadata": {},
   "outputs": [],
   "source": [
    "#calculate_order_price\n",
    "\"\"\"Add a new function to calculate the total price of the customer order. \n",
    "For each product in customer_orders, prompt the user to enter the price of that product. \n",
    "Use comprehension to calculate the total price. \n",
    "Note: assume that the user can only have 1 unit of each product.\"\"\"\n",
    "\n",
    "def calculate_order_price(get_customer_orders):\n",
    "    number_of_orders, customer_orders = get_customer_orders\n",
    "    product_price = {product: int(input(f\"Enter the price of {product.upper()}: \")) for product in customer_orders}\n",
    "    total_price = sum([price for price in product_price.values()])\n",
    "    return total_price, product_price\n"
   ]
  },
  {
   "cell_type": "code",
   "execution_count": 115,
   "id": "fd0ba14f",
   "metadata": {},
   "outputs": [],
   "source": [
    "# update inventory function\n",
    "\"\"\"that takes `customer_orders` and `inventory` as parameters. \n",
    "Inside the function, implement the code for updating the inventory dictionary based on the customer orders. \n",
    "Add comprehension\n",
    "Modify the update_inventory function to remove the product from the inventory if its quantity becomes zero after fulfilling the customer orders. \n",
    "Use comprehension to filter out the products with a quantity of zero from the inventory.\"\"\"\n",
    "\n",
    "def update_inventory(get_customer_orders, inventory):\n",
    "    (number_of_orders, customer_orders) = get_customer_orders \n",
    "    for product in customer_orders:\n",
    "        if inventory.get(product) == None:\n",
    "            pass\n",
    "        else:\n",
    "            inventory[product] -= 1\n",
    "            if inventory[product] == 0:\n",
    "                inventory.pop(product)\n",
    "    return inventory\n"
   ]
  },
  {
   "cell_type": "code",
   "execution_count": 116,
   "id": "5c4e91fb",
   "metadata": {},
   "outputs": [],
   "source": [
    "# calculate_order_statistics function\n",
    "\"\"\"that takes `customer_orders` and `products` as parameters. Inside the function, \n",
    "implement the code for calculating the order statistics (total products ordered, and percentage of unique products ordered). \n",
    "The function should return these values.\"\"\"\n",
    "\n",
    "def calculate_order_statistics(get_customer_orders, products):\n",
    "    (number_of_orders, customer_orders) = get_customer_orders\n",
    "    total_products_ordered = len(customer_orders)\n",
    "    pct_of_unique_products_ordered = (len(customer_orders)/ len(products))*100\n",
    "    return total_products_ordered, pct_of_unique_products_ordered\n"
   ]
  },
  {
   "cell_type": "code",
   "execution_count": 117,
   "id": "7a1f6b20",
   "metadata": {},
   "outputs": [],
   "source": [
    "# print_order_statistics function\n",
    "\"\"\"that takes `order_statistics` as a parameter. Inside the function, implement the code for printing the order statistics.\"\"\"\n",
    "\n",
    "def print_order_statistics(calculate_order_statistics):\n",
    "    (total_products_ordered, pct_of_unique_products_ordered) = calculate_order_statistics\n",
    "    print(\"Order Statistics:\")\n",
    "    print(f\"Total Products Ordered: {total_products_ordered}\")\n",
    "    print(f\"Percentage of Unique Products Ordered: {pct_of_unique_products_ordered}\")\n"
   ]
  },
  {
   "cell_type": "code",
   "execution_count": 119,
   "id": "a21e8cd4",
   "metadata": {},
   "outputs": [],
   "source": [
    "# print_updated_inventory function\n",
    "\"\"\"that takes `inventory` as a parameter. Inside the function, implement the code for printing the updated inventory.\n",
    "Add comprehension\"\"\"\n",
    "\n",
    "def print_updated_inventory(inventory):\n",
    "    print(\"Updated Inventory after Customer Orders:\")\n",
    "    [print(f\"{key}: {value}\") for key, value in inventory.items()]\n",
    "   \n",
    "\n"
   ]
  },
  {
   "cell_type": "code",
   "execution_count": null,
   "id": "43020901",
   "metadata": {},
   "outputs": [],
   "source": [
    "# Results\n",
    "\"\"\"\n",
    "Enter the quantity of t-shirts available:  5\n",
    "Enter the quantity of mugs available:  4\n",
    "Enter the quantity of hats available:  3\n",
    "Enter the quantity of books available:  2\n",
    "Enter the quantity of keychains available:  1\n",
    "Enter the number of customer orders:  2\n",
    "Enter the name of a product that a customer wants to order:  hat\n",
    "Enter the name of a product that a customer wants to order:  keychain\n",
    "\n",
    "Order Statistics:\n",
    "Total Products Ordered: 2\n",
    "Percentage of Unique Products Ordered: 40.0\n",
    "\n",
    "Updated Inventory:\n",
    "t-shirt: 5\n",
    "mug: 4\n",
    "hat: 2\n",
    "book: 2\n",
    "Enter the price of keychain:  5\n",
    "Enter the price of hat:  10\n",
    "Total Price: 15.0\n",
    "\"\"\""
   ]
  },
  {
   "cell_type": "code",
   "execution_count": 120,
   "id": "5603fcdd",
   "metadata": {},
   "outputs": [
    {
     "name": "stdout",
     "output_type": "stream",
     "text": [
      "Order Statistics:\n",
      "Total Products Ordered: 2\n",
      "Percentage of Unique Products Ordered: 40.0\n",
      "Updated Inventory after Customer Orders:\n",
      "tshirt: 1\n",
      "pen: 1\n",
      "umbrella: 1\n",
      "The price of mug: 15\n",
      "The price of book: 12\n",
      "Total Price: 27\n",
      "Total Price: {'mug': 15, 'book': 12}\n"
     ]
    },
    {
     "data": {
      "text/plain": [
       "[None, None]"
      ]
     },
     "execution_count": 120,
     "metadata": {},
     "output_type": "execute_result"
    }
   ],
   "source": [
    "# Call functions\n",
    "products = ['mug', 'book', 'tshirt', 'pen', 'umbrella']\n",
    "inventory = initialize_inventory(products)\n",
    "customer_orders = get_customer_orders()\n",
    "order_price = calculate_order_price(customer_orders)\n",
    "update_inventory(customer_orders,inventory)\n",
    "calculate_order_statistics(customer_orders, products)\n",
    "print_order_statistics(calculate_order_statistics(customer_orders,products))\n",
    "print_updated_inventory (inventory)\n",
    "[print(f\"The price of {product}: {price}\") for product, price in order_price[1].items()]\n",
    "[print(f\"Total Price: {total}\") for total in order_price]"
   ]
  }
 ],
 "metadata": {
  "kernelspec": {
   "display_name": "base",
   "language": "python",
   "name": "python3"
  },
  "language_info": {
   "codemirror_mode": {
    "name": "ipython",
    "version": 3
   },
   "file_extension": ".py",
   "mimetype": "text/x-python",
   "name": "python",
   "nbconvert_exporter": "python",
   "pygments_lexer": "ipython3",
   "version": "3.12.7"
  }
 },
 "nbformat": 4,
 "nbformat_minor": 5
}
